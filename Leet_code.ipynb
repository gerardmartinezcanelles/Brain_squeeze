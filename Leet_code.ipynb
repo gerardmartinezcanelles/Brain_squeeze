{
 "cells": [
  {
   "cell_type": "code",
   "execution_count": 1,
   "id": "9e0138f6-0813-48a0-af28-5c28a5ab56eb",
   "metadata": {},
   "outputs": [],
   "source": [
    "import numpy as np\n",
    "from datetime import datetime"
   ]
  },
  {
   "cell_type": "markdown",
   "id": "111b84dd-11eb-4b05-ad10-bd4ea5de2c5f",
   "metadata": {},
   "source": [
    "# Exercise 1 --> Remove the nth element of a list"
   ]
  },
  {
   "cell_type": "markdown",
   "id": "4f0d4f90-ddf3-4fb0-94ab-da1d111d8e1a",
   "metadata": {},
   "source": [
    "Option 1"
   ]
  },
  {
   "cell_type": "code",
   "execution_count": 6,
   "id": "397447c9-9076-4a8e-a658-162b8a512fa0",
   "metadata": {},
   "outputs": [
    {
     "data": {
      "text/plain": [
       "1"
      ]
     },
     "execution_count": 6,
     "metadata": {},
     "output_type": "execute_result"
    }
   ],
   "source": [
    "nums = [-2,0,2,1,5]\n",
    "k = 3\n",
    "nums.pop(k)"
   ]
  },
  {
   "cell_type": "code",
   "execution_count": 7,
   "id": "5958d04b-e349-440c-8251-ebc878181801",
   "metadata": {},
   "outputs": [
    {
     "data": {
      "text/plain": [
       "[-2, 0, 2, 5]"
      ]
     },
     "execution_count": 7,
     "metadata": {},
     "output_type": "execute_result"
    }
   ],
   "source": [
    "nums"
   ]
  },
  {
   "cell_type": "markdown",
   "id": "4fb43d7b-3d20-4c93-8768-1159744c2ac4",
   "metadata": {},
   "source": [
    "Option 2"
   ]
  },
  {
   "cell_type": "code",
   "execution_count": 12,
   "id": "475aa623-0ca6-4f9c-84f7-5572d74a22c8",
   "metadata": {},
   "outputs": [
    {
     "data": {
      "text/plain": [
       "[-2, 0, 2, 5]"
      ]
     },
     "execution_count": 12,
     "metadata": {},
     "output_type": "execute_result"
    }
   ],
   "source": [
    "nums = [-2,0,2,1,5]\n",
    "nums = nums[:k]+nums[(k+1):]\n",
    "nums"
   ]
  },
  {
   "cell_type": "markdown",
   "id": "0f30a80a-d9c7-47ac-ae1f-b49472c779d2",
   "metadata": {},
   "source": [
    "# Exercise 2 --> Gas station"
   ]
  },
  {
   "cell_type": "markdown",
   "id": "0399ead1-2980-44c1-b9ae-fed469403358",
   "metadata": {},
   "source": [
    "https://leetcode.com/problems/gas-station/?envType=study-plan-v2&envId=top-interview-150"
   ]
  },
  {
   "cell_type": "markdown",
   "id": "b0b334dc-b89f-4ee9-810d-67ec2e171ddf",
   "metadata": {},
   "source": [
    "Example 1:\n",
    "\n",
    "Input: gas = [1,2,3,4,5], cost = [3,4,5,1,2]\n",
    "\n",
    "Output: 3\n",
    "\n",
    "Explanation:\n",
    "\n",
    "Start at station 3 (index 3) and fill up with 4 unit of gas. Your tank = 0 + 4 = 4\n",
    "\n",
    "Travel to station 4. Your tank = 4 - 1 + 5 = 8\n",
    "\n",
    "Travel to station 0. Your tank = 8 - 2 + 1 = 7\n",
    "\n",
    "Travel to station 1. Your tank = 7 - 3 + 2 = 6\n",
    "\n",
    "Travel to station 2. Your tank = 6 - 4 + 3 = 5\n",
    "\n",
    "Travel to station 3. The cost is 5. Your gas is just enough to travel back to station 3.\n",
    "\n",
    "Therefore, return 3 as the starting index."
   ]
  },
  {
   "cell_type": "code",
   "execution_count": 20,
   "id": "b214ed1e-a98e-46e5-930d-ae0eb0a768ad",
   "metadata": {},
   "outputs": [],
   "source": [
    "gas = [1,2,3,4,5]\n",
    "cost = [3,4,5,1,2]"
   ]
  },
  {
   "cell_type": "code",
   "execution_count": 46,
   "id": "bddfd770-c4e4-400c-8a62-9acf54a4bf59",
   "metadata": {},
   "outputs": [],
   "source": [
    "def canCompleteCircuit(gas, cost):\n",
    "    if sum(gas) < sum(cost):\n",
    "        return -1\n",
    "\n",
    "    start = 0\n",
    "    tank = 0\n",
    "    for i in range(len(gas)):\n",
    "        print('i',i)\n",
    "        tank += gas[i] - cost[i]\n",
    "        print('tank',tank)\n",
    "        if tank < 0:\n",
    "            start = i + 1\n",
    "            print('--->start',start)\n",
    "            tank = 0\n",
    "    return start"
   ]
  },
  {
   "cell_type": "code",
   "execution_count": 47,
   "id": "c3ebd9ad-95f5-48fb-8c05-eaeb755ec292",
   "metadata": {},
   "outputs": [
    {
     "name": "stdout",
     "output_type": "stream",
     "text": [
      "i 0\n",
      "tank -2\n",
      "--->start 1\n",
      "i 1\n",
      "tank -2\n",
      "--->start 2\n",
      "i 2\n",
      "tank -2\n",
      "--->start 3\n",
      "i 3\n",
      "tank 3\n",
      "i 4\n",
      "tank 6\n"
     ]
    },
    {
     "data": {
      "text/plain": [
       "3"
      ]
     },
     "execution_count": 47,
     "metadata": {},
     "output_type": "execute_result"
    }
   ],
   "source": [
    "canCompleteCircuit(gas, cost)"
   ]
  },
  {
   "cell_type": "markdown",
   "id": "8f94153e-0818-47a8-8599-5984ed832f47",
   "metadata": {},
   "source": [
    "## Length of Last Word"
   ]
  },
  {
   "cell_type": "markdown",
   "id": "3d545f66-ec30-4490-9fbb-7002d2b8d54e",
   "metadata": {},
   "source": [
    "Length of Last Word\n",
    "\n",
    "Given a string s consisting of words and spaces, return the length of the last word in the string.\n",
    "\n",
    "A word is a maximal substring consisting of non-space characters only."
   ]
  },
  {
   "cell_type": "markdown",
   "id": "f6eb74a9-ed55-49ff-a6fc-801b8ce49b57",
   "metadata": {},
   "source": [
    "Example 1:\n",
    "\n",
    "Input: s = \"Hello World\"\n",
    "\n",
    "Output: 5\n",
    "\n",
    "Explanation: The last word is \"World\" with length 5.\n",
    "\n",
    "Example 2:\n",
    "\n",
    "Input: s = \"   fly me   to   the moon  \"\n",
    "\n",
    "Output: 4\n",
    "\n",
    "Explanation: The last word is \"moon\" with length 4.\n",
    "\n",
    "Example 3:\n",
    "\n",
    "Input: s = \"luffy is still joyboy\"\n",
    "\n",
    "Output: 6\n",
    "\n",
    "Explanation: The last word is \"joyboy\" with length 6."
   ]
  },
  {
   "cell_type": "code",
   "execution_count": 48,
   "id": "cfb740a7-0d7a-42c2-a224-787f9b22dc7c",
   "metadata": {},
   "outputs": [],
   "source": [
    "s = \"luffy is still joyboy\""
   ]
  },
  {
   "cell_type": "code",
   "execution_count": 51,
   "id": "6583aa94-226b-4392-b9ca-f874535f3ad3",
   "metadata": {},
   "outputs": [
    {
     "data": {
      "text/plain": [
       "6"
      ]
     },
     "execution_count": 51,
     "metadata": {},
     "output_type": "execute_result"
    }
   ],
   "source": [
    "len(s.split()[-1])"
   ]
  },
  {
   "cell_type": "markdown",
   "id": "ba027fcb-be6e-4b5a-9671-b1d95aa6513d",
   "metadata": {},
   "source": [
    "## Common prefix"
   ]
  },
  {
   "cell_type": "markdown",
   "id": "8e6f09c0-caac-46ff-b49d-cb13c6fb7ee2",
   "metadata": {},
   "source": [
    "Write a function to find the longest common prefix string amongst an array of strings.\n",
    "\n",
    "If there is no common prefix, return an empty string \"\".\n",
    "\n",
    "Example 1:\n",
    "\n",
    "Input: strs = [\"flower\",\"flow\",\"flight\"]\n",
    "Output: \"fl\"\n",
    "\n",
    "Example 2:\n",
    "\n",
    "Input: strs = [\"dog\",\"racecar\",\"car\"]\n",
    "Output: \"\"\n",
    "Explanation: There is no common prefix among the input strings."
   ]
  },
  {
   "cell_type": "code",
   "execution_count": 149,
   "id": "be6575e0-5d37-4a64-837c-79085277c84c",
   "metadata": {},
   "outputs": [],
   "source": [
    "strs = [\"flower\",\"flow\",\"flight\"]\n",
    "#strs = [\"dog\",\"racecar\",\"car\"]\n",
    "strs = ['dog','dogs','doggy']"
   ]
  },
  {
   "cell_type": "code",
   "execution_count": 144,
   "id": "c2233ddd-1398-4aa0-852b-cf9abe7cadb4",
   "metadata": {},
   "outputs": [],
   "source": [
    "def common_prefix(strs: List[str])-> str:\n",
    "    shorter_word = min([len(x) for x in strs])\n",
    "    prefix = ''\n",
    "    for let in strs[0]:\n",
    "        counter = 0\n",
    "        prefix+=let\n",
    "        for word in strs[1:]:\n",
    "            if word[:len(prefix)]==prefix:\n",
    "                counter+=1\n",
    "        if counter<(len(strs)-1):\n",
    "            return prefix[:-1]\n",
    "        elif len(prefix)==shorter_word:\n",
    "            return prefix"
   ]
  },
  {
   "cell_type": "code",
   "execution_count": 145,
   "id": "30d77191-183d-409c-a52c-ce67577df4d2",
   "metadata": {},
   "outputs": [
    {
     "data": {
      "text/plain": [
       "'dog'"
      ]
     },
     "execution_count": 145,
     "metadata": {},
     "output_type": "execute_result"
    }
   ],
   "source": [
    "ret = common_prefix(strs)\n",
    "ret"
   ]
  },
  {
   "cell_type": "code",
   "execution_count": 143,
   "id": "bb48e362-83ac-4133-a108-6955fadae44e",
   "metadata": {},
   "outputs": [
    {
     "data": {
      "text/plain": [
       "3"
      ]
     },
     "execution_count": 143,
     "metadata": {},
     "output_type": "execute_result"
    }
   ],
   "source": [
    "def longest_common_prefix(strs: List[str]) -> str:\n",
    "    if not strs:\n",
    "        return \"\"\n",
    "    min_len = min(map(len, strs))\n",
    "    for i in range(min_len):\n",
    "        ch = strs[0][i]\n",
    "        if not all(s[i] == ch for s in strs[1:]):\n",
    "            return strs[0][:i]\n",
    "    return strs[0][:min_len]"
   ]
  },
  {
   "cell_type": "markdown",
   "id": "44f037cd-3270-4e69-996c-fff3cd7b6605",
   "metadata": {},
   "source": [
    "## Reverse"
   ]
  },
  {
   "cell_type": "markdown",
   "id": "581e5f14-c3c3-4c77-967a-4a5687f2e065",
   "metadata": {},
   "source": [
    "Example 1:\n",
    "\n",
    "Input: s = \"the sky is blue\"\n",
    "\n",
    "Output: \"blue is sky the\"\n",
    "\n",
    "\n",
    "Example 2:\n",
    "\n",
    "Input: s = \"  hello world  \"\n",
    "\n",
    "Output: \"world hello\"\n",
    "\n",
    "Explanation: Your reversed string should not contain leading or trailing spaces."
   ]
  },
  {
   "cell_type": "code",
   "execution_count": 158,
   "id": "e1992705-e0cf-46e2-93cf-87847ddc7785",
   "metadata": {},
   "outputs": [],
   "source": [
    "s = \"the sky is blue\""
   ]
  },
  {
   "cell_type": "code",
   "execution_count": 162,
   "id": "faad7da6-b896-4c6d-8d82-fad6c3b8e0b6",
   "metadata": {},
   "outputs": [],
   "source": [
    "def reverse(s:str) -> str:\n",
    "    s_clean = s.split()\n",
    "    s_clean = s_clean[::-1]\n",
    "    return (\" \").join(s_clean)"
   ]
  },
  {
   "cell_type": "markdown",
   "id": "fce3712d-6553-4946-ae26-4882df170f7d",
   "metadata": {},
   "source": [
    "# Needle and haystack"
   ]
  },
  {
   "cell_type": "markdown",
   "id": "b0296b87-21a9-4970-af7b-8a69b2eb99fa",
   "metadata": {},
   "source": [
    "Example 1:\n",
    "\n",
    "Input: haystack = \"sadbutsad\", needle = \"sad\"\n",
    "\n",
    "Output: 0\n",
    "\n",
    "Explanation: \"sad\" occurs at index 0 and 6.\n",
    "\n",
    "The first occurrence is at index 0, so we return 0.\n",
    "\n",
    "Example 2:\n",
    "\n",
    "Input: haystack = \"leetcode\", needle = \"leeto\"\n",
    "\n",
    "Output: -1\n",
    "\n",
    "Explanation: \"leeto\" did not occur in \"leetcode\", so we return -1.\n"
   ]
  },
  {
   "cell_type": "code",
   "execution_count": 172,
   "id": "193a0945-d26a-4219-a628-1e6a6ba44854",
   "metadata": {},
   "outputs": [],
   "source": [
    "haystack = \"asadbutsad\"\n",
    "needle = \"sad\""
   ]
  },
  {
   "cell_type": "code",
   "execution_count": 173,
   "id": "3ca64a65-4105-45b6-b5e2-f7540f816d55",
   "metadata": {},
   "outputs": [
    {
     "data": {
      "text/plain": [
       "True"
      ]
     },
     "execution_count": 173,
     "metadata": {},
     "output_type": "execute_result"
    }
   ],
   "source": [
    "needle in haystack"
   ]
  },
  {
   "cell_type": "code",
   "execution_count": 178,
   "id": "c6cfa166-9968-4a2f-b167-c0ad6ba3b252",
   "metadata": {},
   "outputs": [],
   "source": [
    "def needle_in_haystack(needle:str, haystack:str) -> int:\n",
    "    if not needle in haystack:\n",
    "        return -1\n",
    "    else:\n",
    "        for i in range(len(haystack)-len(needle)+1):\n",
    "            if haystack[i:(i+len(needle))]==needle:\n",
    "                return i        "
   ]
  },
  {
   "cell_type": "code",
   "execution_count": 179,
   "id": "8b9ac7ee-0d29-4262-a0c0-c8e25886a89d",
   "metadata": {},
   "outputs": [
    {
     "data": {
      "text/plain": [
       "1"
      ]
     },
     "execution_count": 179,
     "metadata": {},
     "output_type": "execute_result"
    }
   ],
   "source": [
    "needle_in_haystack(needle, haystack)"
   ]
  },
  {
   "cell_type": "markdown",
   "id": "4e2f692e-4b81-483a-8dbd-b9910b19a215",
   "metadata": {},
   "source": [
    "## Palindrome"
   ]
  },
  {
   "cell_type": "markdown",
   "id": "f28a9d2f-9dca-4fab-99ba-f0769a6cada6",
   "metadata": {},
   "source": [
    "A phrase is a palindrome if, after converting all uppercase letters into lowercase letters and removing all non-alphanumeric characters, it reads the same forward and backward. Alphanumeric characters include letters and numbers.\n",
    "\n",
    "Given a string s, return true if it is a palindrome, or false otherwise."
   ]
  },
  {
   "cell_type": "markdown",
   "id": "bbf59af3-83d6-4f7e-880b-67164e689cdb",
   "metadata": {},
   "source": [
    "Input: s = \"A man, a plan, a canal: Panama\"\n",
    "Output: true\n",
    "Explanation: \"amanaplanacanalpanama\" is a palindrome.\n"
   ]
  },
  {
   "cell_type": "code",
   "execution_count": 203,
   "id": "81f7552a-ee9f-4d43-ae8b-88d4ec507684",
   "metadata": {},
   "outputs": [],
   "source": [
    "def is_palindrome(s:str)-> int:\n",
    "    s = s.lower().replace(\";\",\"\").replace(\".\",\"\").replace(\":\",\"\").replace(\",\",\"\").replace(\" \",\"\")\n",
    "    if s[::-1] == s:\n",
    "        return True\n",
    "    else:\n",
    "        return False"
   ]
  },
  {
   "cell_type": "code",
   "execution_count": 204,
   "id": "6d29b219-c74e-4608-af74-924bcbd68445",
   "metadata": {},
   "outputs": [],
   "source": [
    "s = \"A man, a plan, a canal: Panama\"\n"
   ]
  },
  {
   "cell_type": "code",
   "execution_count": 205,
   "id": "43fc2d24-a23d-4602-819b-9d5defdf7bfe",
   "metadata": {},
   "outputs": [
    {
     "data": {
      "text/plain": [
       "True"
      ]
     },
     "execution_count": 205,
     "metadata": {},
     "output_type": "execute_result"
    }
   ],
   "source": [
    "is_palindrome(s)"
   ]
  },
  {
   "cell_type": "code",
   "execution_count": 197,
   "id": "2ab9614f-478b-4e01-9c55-6a1a6262ae9a",
   "metadata": {},
   "outputs": [],
   "source": [
    "def isPalindrome(s: str) -> bool:\n",
    "    t = re.sub(r'[^A-Za-z0-9]', '', s).lower()  # ASCII-only\n",
    "    return t == t[::-1]"
   ]
  },
  {
   "cell_type": "code",
   "execution_count": 200,
   "id": "f8b3187a-a67d-4e2d-97fa-45af73fae6ea",
   "metadata": {},
   "outputs": [
    {
     "data": {
      "text/plain": [
       "True"
      ]
     },
     "execution_count": 200,
     "metadata": {},
     "output_type": "execute_result"
    }
   ],
   "source": [
    "s[::-1] == s"
   ]
  },
  {
   "cell_type": "markdown",
   "id": "cd18e353-c03c-4e01-a13e-7924bdafa83e",
   "metadata": {},
   "source": [
    "## Triplets"
   ]
  },
  {
   "cell_type": "markdown",
   "id": "bdd80a4e-fad2-4f94-8344-c1c82a42bc08",
   "metadata": {},
   "source": [
    "Given an integer array nums, return all the triplets [nums[i], nums[j], nums[k]] such that i != j, i != k, and j != k, and nums[i] + nums[j] + nums[k] == 0.\n",
    "\n",
    "Notice that the solution set must not contain duplicate triplets.\n",
    "\n",
    " \n",
    "\n",
    "Example 1:\n",
    "\n",
    "Input: nums = [-1,0,1,2,-1,-4]\n",
    "\n",
    "Output: [[-1,-1,2],[-1,0,1]]\n",
    "\n",
    "Explanation: \n",
    "\n",
    "nums[0] + nums[1] + nums[2] = (-1) + 0 + 1 = 0.\n",
    "\n",
    "nums[1] + nums[2] + nums[4] = 0 + 1 + (-1) = 0.\n",
    "\n",
    "nums[0] + nums[3] + nums[4] = (-1) + 2 + (-1) = 0.\n",
    "\n",
    "The distinct triplets are [-1,0,1] and [-1,-1,2].\n",
    "\n",
    "Notice that the order of the output and the order of the triplets does not matter."
   ]
  },
  {
   "cell_type": "code",
   "execution_count": 215,
   "id": "c59df750-691f-4bf6-b47d-3dc070548142",
   "metadata": {},
   "outputs": [
    {
     "data": {
      "text/plain": [
       "[-1, 0, 1, 2, -1, -4]"
      ]
     },
     "execution_count": 215,
     "metadata": {},
     "output_type": "execute_result"
    }
   ],
   "source": [
    "nums = [-1,0,1,2,-1,-4]\n",
    "nums"
   ]
  },
  {
   "cell_type": "code",
   "execution_count": 214,
   "id": "52c566bd-64db-4b61-a9ae-2a5e4d9bb276",
   "metadata": {},
   "outputs": [],
   "source": [
    "triplets = []\n",
    "for i in range(len(nums)-2):\n",
    "    for j in range(i+1, len(nums)-1):\n",
    "        for k in range(j+1,len(nums)):\n",
    "            if nums[i]+nums[j]+nums[k]==0:\n",
    "                if sorted([nums[i],nums[j],nums[k]]) not in triplets:\n",
    "                    triplets.append([nums[i],nums[j],nums[k]])"
   ]
  },
  {
   "cell_type": "code",
   "execution_count": 216,
   "id": "4f744ca7-fda1-497d-bd71-6d96a2ed9e63",
   "metadata": {},
   "outputs": [
    {
     "data": {
      "text/plain": [
       "[[-1, 0, 1], [-1, 2, -1]]"
      ]
     },
     "execution_count": 216,
     "metadata": {},
     "output_type": "execute_result"
    }
   ],
   "source": [
    "triplets"
   ]
  },
  {
   "cell_type": "markdown",
   "id": "7ba30890-71f0-42cd-b65b-5785f8b51cbd",
   "metadata": {},
   "source": [
    "## Consecutive"
   ]
  },
  {
   "cell_type": "markdown",
   "id": "3cec0c2f-8e96-46f3-aa7b-530850ac3411",
   "metadata": {},
   "source": [
    "\n",
    "Example 1:\n",
    "\n",
    "Input: s = \"abcabcbb\"\n",
    "Output: 3\n",
    "Explanation: The answer is \"abc\", with the length of 3.\n",
    "Example 2:\n",
    "\n",
    "Input: s = \"bbbbb\"\n",
    "Output: 1\n",
    "Explanation: The answer is \"b\", with the length of 1.\n",
    "Example 3:\n",
    "\n",
    "Input: s = \"pwwkew\"\n",
    "Output: 3\n",
    "Explanation: The answer is \"wke\", with the length of 3.\n",
    "Notice that the answer must be a substring, \"pwke\" is a subsequence and not a substring.\n"
   ]
  },
  {
   "cell_type": "code",
   "execution_count": 225,
   "id": "50822bb0-5a1a-4c32-94eb-548d6d45585e",
   "metadata": {},
   "outputs": [],
   "source": [
    "def consecutive(s):\n",
    "    cons = []\n",
    "    for idx in s:\n",
    "        if idx not in cons:\n",
    "            cons.append(idx)\n",
    "        else:\n",
    "            return \"\".join(cons)"
   ]
  },
  {
   "cell_type": "code",
   "execution_count": 227,
   "id": "15ed0cc6-5b6b-477e-ace2-2a2b72ef7dc6",
   "metadata": {},
   "outputs": [
    {
     "data": {
      "text/plain": [
       "'pw'"
      ]
     },
     "execution_count": 227,
     "metadata": {},
     "output_type": "execute_result"
    }
   ],
   "source": [
    "s = \"pwwkew\"\n",
    "consecutive(s)"
   ]
  },
  {
   "cell_type": "markdown",
   "id": "c17ffda0-6ca9-442f-a282-8ba71c9cc879",
   "metadata": {},
   "source": [
    "## Letters"
   ]
  },
  {
   "cell_type": "markdown",
   "id": "3cc31776-c57d-493e-8894-84223163c5f7",
   "metadata": {},
   "source": [
    "Given two strings ransomNote and magazine, return true if ransomNote can be constructed by using the letters from magazine and false otherwise.\n",
    "\n",
    "Each letter in magazine can only be used once in ransomNote.\n",
    "\n",
    "Example 1:\n",
    "\n",
    "Input: ransomNote = \"a\", magazine = \"b\"\n",
    "Output: false\n",
    "Example 2:\n",
    "\n",
    "Input: ransomNote = \"aa\", magazine = \"ab\"\n",
    "Output: false\n",
    "Example 3:\n",
    "\n",
    "Input: ransomNote = \"aa\", magazine = \"aab\"\n",
    "Output: true\n",
    "\n"
   ]
  },
  {
   "cell_type": "code",
   "execution_count": 246,
   "id": "f4f5962b-03f7-4c2d-89d5-fd08382f87dd",
   "metadata": {},
   "outputs": [],
   "source": [
    "ransomNote = \"azw\"\n",
    "magazine = \"aazzzfffccc\""
   ]
  },
  {
   "cell_type": "code",
   "execution_count": 252,
   "id": "984d97a2-bb20-456e-9e94-6377bfef2b36",
   "metadata": {},
   "outputs": [],
   "source": [
    "def canConstruct(ransomNote: str, magazine: str) -> bool:\n",
    "    need = Counter(ransomNote)\n",
    "    have = Counter(magazine)\n",
    "    return not (need - have)   #"
   ]
  },
  {
   "cell_type": "code",
   "execution_count": null,
   "id": "bd15ac8a-0d6e-46b0-a1b9-8856b9955409",
   "metadata": {},
   "outputs": [],
   "source": []
  }
 ],
 "metadata": {
  "kernelspec": {
   "display_name": "Python (uv-env)",
   "language": "python",
   "name": "uv-env"
  },
  "language_info": {
   "codemirror_mode": {
    "name": "ipython",
    "version": 3
   },
   "file_extension": ".py",
   "mimetype": "text/x-python",
   "name": "python",
   "nbconvert_exporter": "python",
   "pygments_lexer": "ipython3",
   "version": "3.11.0"
  }
 },
 "nbformat": 4,
 "nbformat_minor": 5
}
