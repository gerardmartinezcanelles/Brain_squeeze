{
 "cells": [
  {
   "cell_type": "code",
   "execution_count": 1,
   "id": "9e0138f6-0813-48a0-af28-5c28a5ab56eb",
   "metadata": {},
   "outputs": [],
   "source": [
    "import numpy as np\n",
    "from datetime import datetime"
   ]
  },
  {
   "cell_type": "markdown",
   "id": "111b84dd-11eb-4b05-ad10-bd4ea5de2c5f",
   "metadata": {},
   "source": [
    "# Exercise 1 --> Remove the nth element of a list"
   ]
  },
  {
   "cell_type": "markdown",
   "id": "4f0d4f90-ddf3-4fb0-94ab-da1d111d8e1a",
   "metadata": {},
   "source": [
    "Option 1"
   ]
  },
  {
   "cell_type": "code",
   "execution_count": 6,
   "id": "397447c9-9076-4a8e-a658-162b8a512fa0",
   "metadata": {},
   "outputs": [
    {
     "data": {
      "text/plain": [
       "1"
      ]
     },
     "execution_count": 6,
     "metadata": {},
     "output_type": "execute_result"
    }
   ],
   "source": [
    "nums = [-2,0,2,1,5]\n",
    "k = 3\n",
    "nums.pop(k)"
   ]
  },
  {
   "cell_type": "code",
   "execution_count": 7,
   "id": "5958d04b-e349-440c-8251-ebc878181801",
   "metadata": {},
   "outputs": [
    {
     "data": {
      "text/plain": [
       "[-2, 0, 2, 5]"
      ]
     },
     "execution_count": 7,
     "metadata": {},
     "output_type": "execute_result"
    }
   ],
   "source": [
    "nums"
   ]
  },
  {
   "cell_type": "markdown",
   "id": "4fb43d7b-3d20-4c93-8768-1159744c2ac4",
   "metadata": {},
   "source": [
    "Option 2"
   ]
  },
  {
   "cell_type": "code",
   "execution_count": 12,
   "id": "475aa623-0ca6-4f9c-84f7-5572d74a22c8",
   "metadata": {},
   "outputs": [
    {
     "data": {
      "text/plain": [
       "[-2, 0, 2, 5]"
      ]
     },
     "execution_count": 12,
     "metadata": {},
     "output_type": "execute_result"
    }
   ],
   "source": [
    "nums = [-2,0,2,1,5]\n",
    "nums = nums[:k]+nums[(k+1):]\n",
    "nums"
   ]
  },
  {
   "cell_type": "markdown",
   "id": "0f30a80a-d9c7-47ac-ae1f-b49472c779d2",
   "metadata": {},
   "source": [
    "# Exercise 2 --> Gas station"
   ]
  },
  {
   "cell_type": "markdown",
   "id": "0399ead1-2980-44c1-b9ae-fed469403358",
   "metadata": {},
   "source": [
    "https://leetcode.com/problems/gas-station/?envType=study-plan-v2&envId=top-interview-150"
   ]
  },
  {
   "cell_type": "markdown",
   "id": "b0b334dc-b89f-4ee9-810d-67ec2e171ddf",
   "metadata": {},
   "source": [
    "Example 1:\n",
    "\n",
    "Input: gas = [1,2,3,4,5], cost = [3,4,5,1,2]\n",
    "\n",
    "Output: 3\n",
    "\n",
    "Explanation:\n",
    "\n",
    "Start at station 3 (index 3) and fill up with 4 unit of gas. Your tank = 0 + 4 = 4\n",
    "\n",
    "Travel to station 4. Your tank = 4 - 1 + 5 = 8\n",
    "\n",
    "Travel to station 0. Your tank = 8 - 2 + 1 = 7\n",
    "\n",
    "Travel to station 1. Your tank = 7 - 3 + 2 = 6\n",
    "\n",
    "Travel to station 2. Your tank = 6 - 4 + 3 = 5\n",
    "\n",
    "Travel to station 3. The cost is 5. Your gas is just enough to travel back to station 3.\n",
    "\n",
    "Therefore, return 3 as the starting index."
   ]
  },
  {
   "cell_type": "code",
   "execution_count": 20,
   "id": "b214ed1e-a98e-46e5-930d-ae0eb0a768ad",
   "metadata": {},
   "outputs": [],
   "source": [
    "gas = [1,2,3,4,5]\n",
    "cost = [3,4,5,1,2]"
   ]
  },
  {
   "cell_type": "code",
   "execution_count": 46,
   "id": "bddfd770-c4e4-400c-8a62-9acf54a4bf59",
   "metadata": {},
   "outputs": [],
   "source": [
    "def canCompleteCircuit(gas, cost):\n",
    "    if sum(gas) < sum(cost):\n",
    "        return -1\n",
    "\n",
    "    start = 0\n",
    "    tank = 0\n",
    "    for i in range(len(gas)):\n",
    "        print('i',i)\n",
    "        tank += gas[i] - cost[i]\n",
    "        print('tank',tank)\n",
    "        if tank < 0:\n",
    "            start = i + 1\n",
    "            print('--->start',start)\n",
    "            tank = 0\n",
    "    return start"
   ]
  },
  {
   "cell_type": "code",
   "execution_count": 47,
   "id": "c3ebd9ad-95f5-48fb-8c05-eaeb755ec292",
   "metadata": {},
   "outputs": [
    {
     "name": "stdout",
     "output_type": "stream",
     "text": [
      "i 0\n",
      "tank -2\n",
      "--->start 1\n",
      "i 1\n",
      "tank -2\n",
      "--->start 2\n",
      "i 2\n",
      "tank -2\n",
      "--->start 3\n",
      "i 3\n",
      "tank 3\n",
      "i 4\n",
      "tank 6\n"
     ]
    },
    {
     "data": {
      "text/plain": [
       "3"
      ]
     },
     "execution_count": 47,
     "metadata": {},
     "output_type": "execute_result"
    }
   ],
   "source": [
    "canCompleteCircuit(gas, cost)"
   ]
  },
  {
   "cell_type": "markdown",
   "id": "8f94153e-0818-47a8-8599-5984ed832f47",
   "metadata": {},
   "source": [
    "## Length of Last Word"
   ]
  },
  {
   "cell_type": "markdown",
   "id": "3d545f66-ec30-4490-9fbb-7002d2b8d54e",
   "metadata": {},
   "source": [
    "Length of Last Word\n",
    "\n",
    "Given a string s consisting of words and spaces, return the length of the last word in the string.\n",
    "\n",
    "A word is a maximal substring consisting of non-space characters only."
   ]
  },
  {
   "cell_type": "markdown",
   "id": "f6eb74a9-ed55-49ff-a6fc-801b8ce49b57",
   "metadata": {},
   "source": [
    "Example 1:\n",
    "\n",
    "Input: s = \"Hello World\"\n",
    "\n",
    "Output: 5\n",
    "\n",
    "Explanation: The last word is \"World\" with length 5.\n",
    "\n",
    "Example 2:\n",
    "\n",
    "Input: s = \"   fly me   to   the moon  \"\n",
    "\n",
    "Output: 4\n",
    "\n",
    "Explanation: The last word is \"moon\" with length 4.\n",
    "\n",
    "Example 3:\n",
    "\n",
    "Input: s = \"luffy is still joyboy\"\n",
    "\n",
    "Output: 6\n",
    "\n",
    "Explanation: The last word is \"joyboy\" with length 6."
   ]
  },
  {
   "cell_type": "code",
   "execution_count": 48,
   "id": "cfb740a7-0d7a-42c2-a224-787f9b22dc7c",
   "metadata": {},
   "outputs": [],
   "source": [
    "s = \"luffy is still joyboy\""
   ]
  },
  {
   "cell_type": "code",
   "execution_count": 51,
   "id": "6583aa94-226b-4392-b9ca-f874535f3ad3",
   "metadata": {},
   "outputs": [
    {
     "data": {
      "text/plain": [
       "6"
      ]
     },
     "execution_count": 51,
     "metadata": {},
     "output_type": "execute_result"
    }
   ],
   "source": [
    "len(s.split()[-1])"
   ]
  },
  {
   "cell_type": "markdown",
   "id": "ba027fcb-be6e-4b5a-9671-b1d95aa6513d",
   "metadata": {},
   "source": [
    "## Common prefix"
   ]
  },
  {
   "cell_type": "markdown",
   "id": "8e6f09c0-caac-46ff-b49d-cb13c6fb7ee2",
   "metadata": {},
   "source": [
    "Write a function to find the longest common prefix string amongst an array of strings.\n",
    "\n",
    "If there is no common prefix, return an empty string \"\".\n",
    "\n",
    "Example 1:\n",
    "\n",
    "Input: strs = [\"flower\",\"flow\",\"flight\"]\n",
    "Output: \"fl\"\n",
    "\n",
    "Example 2:\n",
    "\n",
    "Input: strs = [\"dog\",\"racecar\",\"car\"]\n",
    "Output: \"\"\n",
    "Explanation: There is no common prefix among the input strings."
   ]
  },
  {
   "cell_type": "code",
   "execution_count": 149,
   "id": "be6575e0-5d37-4a64-837c-79085277c84c",
   "metadata": {},
   "outputs": [],
   "source": [
    "strs = [\"flower\",\"flow\",\"flight\"]\n",
    "#strs = [\"dog\",\"racecar\",\"car\"]\n",
    "strs = ['dog','dogs','doggy']"
   ]
  },
  {
   "cell_type": "code",
   "execution_count": 144,
   "id": "c2233ddd-1398-4aa0-852b-cf9abe7cadb4",
   "metadata": {},
   "outputs": [],
   "source": [
    "def common_prefix(strs: List[str])-> str:\n",
    "    shorter_word = min([len(x) for x in strs])\n",
    "    prefix = ''\n",
    "    for let in strs[0]:\n",
    "        counter = 0\n",
    "        prefix+=let\n",
    "        for word in strs[1:]:\n",
    "            if word[:len(prefix)]==prefix:\n",
    "                counter+=1\n",
    "        if counter<(len(strs)-1):\n",
    "            return prefix[:-1]\n",
    "        elif len(prefix)==shorter_word:\n",
    "            return prefix"
   ]
  },
  {
   "cell_type": "code",
   "execution_count": 145,
   "id": "30d77191-183d-409c-a52c-ce67577df4d2",
   "metadata": {},
   "outputs": [
    {
     "data": {
      "text/plain": [
       "'dog'"
      ]
     },
     "execution_count": 145,
     "metadata": {},
     "output_type": "execute_result"
    }
   ],
   "source": [
    "ret = common_prefix(strs)\n",
    "ret"
   ]
  },
  {
   "cell_type": "code",
   "execution_count": 143,
   "id": "bb48e362-83ac-4133-a108-6955fadae44e",
   "metadata": {},
   "outputs": [
    {
     "data": {
      "text/plain": [
       "3"
      ]
     },
     "execution_count": 143,
     "metadata": {},
     "output_type": "execute_result"
    }
   ],
   "source": [
    "def longest_common_prefix(strs: List[str]) -> str:\n",
    "    if not strs:\n",
    "        return \"\"\n",
    "    min_len = min(map(len, strs))\n",
    "    for i in range(min_len):\n",
    "        ch = strs[0][i]\n",
    "        if not all(s[i] == ch for s in strs[1:]):\n",
    "            return strs[0][:i]\n",
    "    return strs[0][:min_len]"
   ]
  },
  {
   "cell_type": "markdown",
   "id": "44f037cd-3270-4e69-996c-fff3cd7b6605",
   "metadata": {},
   "source": [
    "## Reverse"
   ]
  },
  {
   "cell_type": "markdown",
   "id": "581e5f14-c3c3-4c77-967a-4a5687f2e065",
   "metadata": {},
   "source": [
    "Example 1:\n",
    "\n",
    "Input: s = \"the sky is blue\"\n",
    "\n",
    "Output: \"blue is sky the\"\n",
    "\n",
    "\n",
    "Example 2:\n",
    "\n",
    "Input: s = \"  hello world  \"\n",
    "\n",
    "Output: \"world hello\"\n",
    "\n",
    "Explanation: Your reversed string should not contain leading or trailing spaces."
   ]
  },
  {
   "cell_type": "code",
   "execution_count": 158,
   "id": "e1992705-e0cf-46e2-93cf-87847ddc7785",
   "metadata": {},
   "outputs": [],
   "source": [
    "s = \"the sky is blue\""
   ]
  },
  {
   "cell_type": "code",
   "execution_count": 162,
   "id": "faad7da6-b896-4c6d-8d82-fad6c3b8e0b6",
   "metadata": {},
   "outputs": [],
   "source": [
    "def reverse(s:str) -> str:\n",
    "    s_clean = s.split()\n",
    "    s_clean = s_clean[::-1]\n",
    "    return (\" \").join(s_clean)"
   ]
  },
  {
   "cell_type": "markdown",
   "id": "fce3712d-6553-4946-ae26-4882df170f7d",
   "metadata": {},
   "source": [
    "# Needle and haystack"
   ]
  },
  {
   "cell_type": "markdown",
   "id": "b0296b87-21a9-4970-af7b-8a69b2eb99fa",
   "metadata": {},
   "source": [
    "Example 1:\n",
    "\n",
    "Input: haystack = \"sadbutsad\", needle = \"sad\"\n",
    "\n",
    "Output: 0\n",
    "\n",
    "Explanation: \"sad\" occurs at index 0 and 6.\n",
    "\n",
    "The first occurrence is at index 0, so we return 0.\n",
    "\n",
    "Example 2:\n",
    "\n",
    "Input: haystack = \"leetcode\", needle = \"leeto\"\n",
    "\n",
    "Output: -1\n",
    "\n",
    "Explanation: \"leeto\" did not occur in \"leetcode\", so we return -1.\n"
   ]
  },
  {
   "cell_type": "code",
   "execution_count": 172,
   "id": "193a0945-d26a-4219-a628-1e6a6ba44854",
   "metadata": {},
   "outputs": [],
   "source": [
    "haystack = \"asadbutsad\"\n",
    "needle = \"sad\""
   ]
  },
  {
   "cell_type": "code",
   "execution_count": 173,
   "id": "3ca64a65-4105-45b6-b5e2-f7540f816d55",
   "metadata": {},
   "outputs": [
    {
     "data": {
      "text/plain": [
       "True"
      ]
     },
     "execution_count": 173,
     "metadata": {},
     "output_type": "execute_result"
    }
   ],
   "source": [
    "needle in haystack"
   ]
  },
  {
   "cell_type": "code",
   "execution_count": 178,
   "id": "c6cfa166-9968-4a2f-b167-c0ad6ba3b252",
   "metadata": {},
   "outputs": [],
   "source": [
    "def needle_in_haystack(needle:str, haystack:str) -> int:\n",
    "    if not needle in haystack:\n",
    "        return -1\n",
    "    else:\n",
    "        for i in range(len(haystack)-len(needle)+1):\n",
    "            if haystack[i:(i+len(needle))]==needle:\n",
    "                return i        "
   ]
  },
  {
   "cell_type": "code",
   "execution_count": 179,
   "id": "8b9ac7ee-0d29-4262-a0c0-c8e25886a89d",
   "metadata": {},
   "outputs": [
    {
     "data": {
      "text/plain": [
       "1"
      ]
     },
     "execution_count": 179,
     "metadata": {},
     "output_type": "execute_result"
    }
   ],
   "source": [
    "needle_in_haystack(needle, haystack)"
   ]
  }
 ],
 "metadata": {
  "kernelspec": {
   "display_name": "Python (uv-env)",
   "language": "python",
   "name": "uv-env"
  },
  "language_info": {
   "codemirror_mode": {
    "name": "ipython",
    "version": 3
   },
   "file_extension": ".py",
   "mimetype": "text/x-python",
   "name": "python",
   "nbconvert_exporter": "python",
   "pygments_lexer": "ipython3",
   "version": "3.11.0"
  }
 },
 "nbformat": 4,
 "nbformat_minor": 5
}
